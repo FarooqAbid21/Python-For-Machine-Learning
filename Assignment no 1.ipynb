{
 "cells": [
  {
   "cell_type": "code",
   "execution_count": 1,
   "id": "a5735e2b-5f2d-4180-963c-a8a3b7cc1382",
   "metadata": {
    "editable": true,
    "slideshow": {
     "slide_type": ""
    },
    "tags": []
   },
   "outputs": [
    {
     "name": "stdout",
     "output_type": "stream",
     "text": [
      "\n",
      "Calculator Menu:\n",
      "1. Two-Input Operations\n",
      "2. One-Input Operations\n",
      "3. Exit\n"
     ]
    },
    {
     "name": "stdin",
     "output_type": "stream",
     "text": [
      "Choose an option (1/2/3):  3\n"
     ]
    },
    {
     "name": "stdout",
     "output_type": "stream",
     "text": [
      "Exiting the calculator. Goodbye!\n"
     ]
    }
   ],
   "source": [
    "import math\n",
    "\n",
    "def two_input_calculator():\n",
    "    print(\"Two_Input operations.\")\n",
    "    print(\"1.Add (+)\")\n",
    "    print(\"2.Subtract (-)\")\n",
    "    print(\"3.Multiply (*)\")\n",
    "    print(\"4.Divide (/)\")\n",
    "    print(\"5.Modulus (%)\")\n",
    "    print(\"6.Square (**)\")\n",
    "    print(\"7.Square Root\")\n",
    "    print(\"8.Float Division (//)\")\n",
    "\n",
    "\n",
    "    # take input from the user\n",
    "    operation = input(\"Enter choice(1/2/3/4/5/6/7/8): \")\n",
    "    num1 = float(input(\"Enter first number: \"))\n",
    "    num2 = float(input(\"Enter second number: \"))\n",
    "\n",
    "    if operation == '1':\n",
    "        result = num1 + num2\n",
    "        print(f\"The result of {num1} + {num2} = {result}\")\n",
    "    elif operation == '2':\n",
    "        result = num1 - num2\n",
    "        print(f\"The result of {num1} - {num2} = {result}\")\n",
    "    elif operation == '3':\n",
    "        result = num1 * num2\n",
    "        print(f\"The result of {num1} * {num2} = {result}\")\n",
    "    elif operation == '4':\n",
    "        result = num1 / num2\n",
    "        print(f\"The result of {num1} / {num2} = {result}\")   \n",
    "    elif operation == '5':\n",
    "        result = num1 % num2\n",
    "        print(f\"The result of {num1} % {num2} = {result}\")   \n",
    "    elif operation == '6':\n",
    "        result = num1 ** num2\n",
    "        print(f\"The result of {num1} ** {num2} = {result}\")   \n",
    "    elif operation == '7':\n",
    "        result = num1 ** (1/2)\n",
    "        print(f\"The result of {num1} ** {1/2} = {result}\")\n",
    "        result = num2 ** (1/2)\n",
    "        print(f\"The result of {num2} ** {1/2} = {result}\")\n",
    "    elif operation == '8':\n",
    "        result = num1 // num2\n",
    "        print(f\"The result of {num1} // {num2} = {result}\")\n",
    "    else:\n",
    "        print(\"Invalid Input\")\n",
    "\n",
    "\n",
    "def one_input_calculator():\n",
    "    print(\"One-Input Operations:\")\n",
    "    print(\"1.Sine (sin)\")\n",
    "    print(\"2.Cosine (cos)\")\n",
    "    print(\"3.Tangent (tan)\")\n",
    "\n",
    "    operation = input(\"Choose an operation (1/2/3): \")\n",
    "    angle = float(input(\"Enter the angle in degrees: \"))\n",
    "    radians = math.radians(angle)\n",
    "\n",
    "    if operation == '1':\n",
    "        result = math.sin(radians)\n",
    "        print(f\"The sine of {angle} degrees is {result}\")\n",
    "    elif operation == '2':\n",
    "        result = math.cos(radians)\n",
    "        print(f\"The cosine of {angle} degrees is {result}\")\n",
    "    elif operation == '3':\n",
    "        result = math.tan(radians)\n",
    "        print(f\"The tangent of {angle} degrees is {result}\")\n",
    "    else:\n",
    "        print(\"Invalid operation.\")\n",
    "\n",
    "def main():\n",
    "    while True:\n",
    "        print(\"\\nCalculator Menu:\")\n",
    "        print(\"1. Two-Input Operations\")\n",
    "        print(\"2. One-Input Operations\")\n",
    "        print(\"3. Exit\")\n",
    "\n",
    "        choice = input(\"Choose an option (1/2/3): \")\n",
    "\n",
    "        if choice == '1':\n",
    "            two_input_calculator()\n",
    "        elif choice == '2':\n",
    "            one_input_calculator()\n",
    "        elif choice == '3':\n",
    "            print(\"Exiting the calculator. Goodbye!\")\n",
    "            break\n",
    "        else:\n",
    "            print(\"Invalid choice. Please try again.\")\n",
    "\n",
    "if __name__ == \"__main__\":\n",
    "    main()\n"
   ]
  },
  {
   "cell_type": "code",
   "execution_count": null,
   "id": "3992094c-1a4d-45cd-9619-b83564d41aea",
   "metadata": {},
   "outputs": [],
   "source": []
  }
 ],
 "metadata": {
  "kernelspec": {
   "display_name": "Python 3 (ipykernel)",
   "language": "python",
   "name": "python3"
  },
  "language_info": {
   "codemirror_mode": {
    "name": "ipython",
    "version": 3
   },
   "file_extension": ".py",
   "mimetype": "text/x-python",
   "name": "python",
   "nbconvert_exporter": "python",
   "pygments_lexer": "ipython3",
   "version": "3.12.7"
  }
 },
 "nbformat": 4,
 "nbformat_minor": 5
}
